{
  "cells": [
    {
      "cell_type": "markdown",
      "source": [
        "# Note: kindly check runs/exp_default for plots and colored ply files at each training epoch and runs/exp_default_exports_validation for final validation plots and colored ply files"
      ],
      "metadata": {
        "id": "TVb4wyupXIYE"
      }
    },
    {
      "cell_type": "code",
      "execution_count": null,
      "metadata": {
        "colab": {
          "base_uri": "https://localhost:8080/"
        },
        "id": "kRC-tYO1GFNh",
        "outputId": "a9434c7f-a577-431d-f607-a4ad7d2a9ea8"
      },
      "outputs": [
        {
          "output_type": "stream",
          "name": "stdout",
          "text": [
            "Mounted at /content/drive\n",
            "Project ready at: /content/drive/MyDrive/kpconv_abc\n"
          ]
        }
      ],
      "source": [
        "from google.colab import drive\n",
        "drive.mount('/content/drive', force_remount=True)\n",
        "\n",
        "PROJECT_ROOT = \"/content/drive/MyDrive/kpconv_abc\"\n",
        "print(\"Project ready at:\", PROJECT_ROOT)\n"
      ]
    },
    {
      "cell_type": "markdown",
      "source": [
        "Fix compiling problems"
      ],
      "metadata": {
        "id": "MGqIN5UgCspu"
      }
    },
    {
      "cell_type": "code",
      "execution_count": null,
      "metadata": {
        "colab": {
          "base_uri": "https://localhost:8080/"
        },
        "id": "isfUiiFeGM7z",
        "outputId": "a009b473-c3b9-4d15-bbee-71cb53bfbd12"
      },
      "outputs": [
        {
          "output_type": "stream",
          "name": "stdout",
          "text": [
            "\u001b[?25l   \u001b[90m━━━━━━━━━━━━━━━━━━━━━━━━━━━━━━━━━━━━━━━━\u001b[0m \u001b[32m0.0/1.8 MB\u001b[0m \u001b[31m?\u001b[0m eta \u001b[36m-:--:--\u001b[0m\r\u001b[2K   \u001b[91m━━━━━━━━━━━━━━━\u001b[0m\u001b[90m╺\u001b[0m\u001b[90m━━━━━━━━━━━━━━━━━━━━━━━━\u001b[0m \u001b[32m0.7/1.8 MB\u001b[0m \u001b[31m19.8 MB/s\u001b[0m eta \u001b[36m0:00:01\u001b[0m\r\u001b[2K   \u001b[90m━━━━━━━━━━━━━━━━━━━━━━━━━━━━━━━━━━━━━━━━\u001b[0m \u001b[32m1.8/1.8 MB\u001b[0m \u001b[31m29.5 MB/s\u001b[0m eta \u001b[36m0:00:00\u001b[0m\n",
            "\u001b[?25h\u001b[31mERROR: pip's dependency resolver does not currently take into account all the packages that are installed. This behaviour is the source of the following dependency conflicts.\n",
            "umap-learn 0.5.9.post2 requires scikit-learn>=1.6, but you have scikit-learn 1.4.2 which is incompatible.\n",
            "opencv-python 4.12.0.88 requires numpy<2.3.0,>=2; python_version >= \"3.9\", but you have numpy 1.26.4 which is incompatible.\n",
            "thinc 8.3.6 requires numpy<3.0.0,>=2.0.0, but you have numpy 1.26.4 which is incompatible.\n",
            "tsfresh 0.21.0 requires scipy>=1.14.0; python_version >= \"3.10\", but you have scipy 1.11.4 which is incompatible.\n",
            "opencv-python-headless 4.12.0.88 requires numpy<2.3.0,>=2; python_version >= \"3.9\", but you have numpy 1.26.4 which is incompatible.\n",
            "cuml-cu12 25.6.0 requires scikit-learn>=1.5, but you have scikit-learn 1.4.2 which is incompatible.\n",
            "opencv-contrib-python 4.12.0.88 requires numpy<2.3.0,>=2; python_version >= \"3.9\", but you have numpy 1.26.4 which is incompatible.\u001b[0m\u001b[31m\n",
            "\u001b[0mW: Skipping acquire of configured file 'main/source/Sources' as repository 'https://r2u.stat.illinois.edu/ubuntu jammy InRelease' does not seem to provide it (sources.list entry misspelt?)\n",
            "Python: 3.12.11 | NumPy: 2.0.2\n"
          ]
        }
      ],
      "source": [
        "%pip -q install -U pip\n",
        "%pip -q install \"numpy==1.26.4\" \"scipy==1.11.4\" \"scikit-learn==1.4.2\" plyfile\n",
        "!apt-get -qq update\n",
        "!apt-get -qq install -y build-essential cmake\n",
        "\n",
        "import sys, numpy as np\n",
        "print(\"Python:\", sys.version.split()[0], \"| NumPy:\", np.__version__)\n"
      ]
    },
    {
      "cell_type": "code",
      "execution_count": null,
      "metadata": {
        "id": "7q499VjjHdAI"
      },
      "outputs": [],
      "source": [
        "%pip -q install -U plyfile"
      ]
    },
    {
      "cell_type": "code",
      "execution_count": null,
      "metadata": {
        "colab": {
          "base_uri": "https://localhost:8080/"
        },
        "id": "MRBZoZSwPs29",
        "outputId": "d7872225-d98e-445f-e0ee-c3c5d3ee574f"
      },
      "outputs": [
        {
          "output_type": "stream",
          "name": "stdout",
          "text": [
            "W: Skipping acquire of configured file 'main/source/Sources' as repository 'https://r2u.stat.illinois.edu/ubuntu jammy InRelease' does not seem to provide it (sources.list entry misspelt?)\n",
            "/content/KPConv-PyTorch\n",
            "Already up to date.\n",
            "/content/KPConv-PyTorch/cpp_wrappers/cpp_subsampling\n",
            "running build_ext\n",
            "building 'grid_subsampling' extension\n",
            "x86_64-linux-gnu-g++ -fno-strict-overflow -Wsign-compare -DNDEBUG -g -O2 -Wall -g -fstack-protector-strong -Wformat -Werror=format-security -g -fwrapv -O2 -fPIC -I/usr/local/lib/python3.12/dist-packages/numpy/core/include -Igrid_subsampling -I../cpp_utils -I/usr/include/python3.12 -c ../cpp_utils/cloud/cloud.cpp -o build/temp.linux-x86_64-cpython-312/../cpp_utils/cloud/cloud.o -O3 -std=c++14\n",
            "x86_64-linux-gnu-g++ -fno-strict-overflow -Wsign-compare -DNDEBUG -g -O2 -Wall -g -fstack-protector-strong -Wformat -Werror=format-security -g -fwrapv -O2 -fPIC -I/usr/local/lib/python3.12/dist-packages/numpy/core/include -Igrid_subsampling -I../cpp_utils -I/usr/include/python3.12 -c grid_subsampling/grid_subsampling.cpp -o build/temp.linux-x86_64-cpython-312/grid_subsampling/grid_subsampling.o -O3 -std=c++14\n",
            "\u001b[01m\u001b[Kgrid_subsampling/grid_subsampling.cpp:\u001b[m\u001b[K In function ‘\u001b[01m\u001b[Kvoid grid_subsampling(std::vector<PointXYZ>&, std::vector<PointXYZ>&, std::vector<float>&, std::vector<float>&, std::vector<int>&, std::vector<int>&, float, int)\u001b[m\u001b[K’:\n",
            "\u001b[01m\u001b[Kgrid_subsampling/grid_subsampling.cpp:99:39:\u001b[m\u001b[K \u001b[01;35m\u001b[Kwarning: \u001b[m\u001b[Kcomparison of integer expressions of different signedness: ‘\u001b[01m\u001b[Kint\u001b[m\u001b[K’ and ‘\u001b[01m\u001b[Ksize_t\u001b[m\u001b[K’ {aka ‘\u001b[01m\u001b[Klong unsigned int\u001b[m\u001b[K’} [\u001b[01;35m\u001b[K\u001b]8;;https://gcc.gnu.org/onlinedocs/gcc/Warning-Options.html#index-Wsign-compare\u0007-Wsign-compare\u001b]8;;\u0007\u001b[m\u001b[K]\n",
            "   99 |                     for (int i = 0; \u001b[01;35m\u001b[Ki < ldim\u001b[m\u001b[K; i++)\n",
            "      |                                     \u001b[01;35m\u001b[K~~^~~~~~\u001b[m\u001b[K\n",
            "\u001b[01m\u001b[Kgrid_subsampling/grid_subsampling.cpp:\u001b[m\u001b[K In function ‘\u001b[01m\u001b[Kvoid batch_grid_subsampling(std::vector<PointXYZ>&, std::vector<PointXYZ>&, std::vector<float>&, std::vector<float>&, std::vector<int>&, std::vector<int>&, std::vector<int>&, std::vector<int>&, float, int)\u001b[m\u001b[K’:\n",
            "\u001b[01m\u001b[Kgrid_subsampling/grid_subsampling.cpp:140:23:\u001b[m\u001b[K \u001b[01;35m\u001b[Kwarning: \u001b[m\u001b[Kcomparison of integer expressions of different signedness: ‘\u001b[01m\u001b[Kint\u001b[m\u001b[K’ and ‘\u001b[01m\u001b[Kstd::vector<int>::size_type\u001b[m\u001b[K’ {aka ‘\u001b[01m\u001b[Klong unsigned int\u001b[m\u001b[K’} [\u001b[01;35m\u001b[K\u001b]8;;https://gcc.gnu.org/onlinedocs/gcc/Warning-Options.html#index-Wsign-compare\u0007-Wsign-compare\u001b]8;;\u0007\u001b[m\u001b[K]\n",
            "  140 |         for (b = 0; \u001b[01;35m\u001b[Kb < original_batches.size()\u001b[m\u001b[K; b++)\n",
            "      |                     \u001b[01;35m\u001b[K~~^~~~~~~~~~~~~~~~~~~~~~~~~\u001b[m\u001b[K\n",
            "\u001b[01m\u001b[Kgrid_subsampling/grid_subsampling.cpp:181:31:\u001b[m\u001b[K \u001b[01;35m\u001b[Kwarning: \u001b[m\u001b[Kcomparison of integer expressions of different signedness: ‘\u001b[01m\u001b[Kstd::vector<PointXYZ>::size_type\u001b[m\u001b[K’ {aka ‘\u001b[01m\u001b[Klong unsigned int\u001b[m\u001b[K’} and ‘\u001b[01m\u001b[Kint\u001b[m\u001b[K’ [\u001b[01;35m\u001b[K\u001b]8;;https://gcc.gnu.org/onlinedocs/gcc/Warning-Options.html#index-Wsign-compare\u0007-Wsign-compare\u001b]8;;\u0007\u001b[m\u001b[K]\n",
            "  181 |         if (\u001b[01;35m\u001b[Kb_s_points.size() <= max_p\u001b[m\u001b[K)\n",
            "      |             \u001b[01;35m\u001b[K~~~~~~~~~~~~~~~~~~^~~~~~~~\u001b[m\u001b[K\n",
            "x86_64-linux-gnu-g++ -fno-strict-overflow -Wsign-compare -DNDEBUG -g -O2 -Wall -g -fstack-protector-strong -Wformat -Werror=format-security -g -fwrapv -O2 -fPIC -I/usr/local/lib/python3.12/dist-packages/numpy/core/include -Igrid_subsampling -I../cpp_utils -I/usr/include/python3.12 -c wrapper.cpp -o build/temp.linux-x86_64-cpython-312/wrapper.o -O3 -std=c++14\n",
            "In file included from \u001b[01m\u001b[K/usr/local/lib/python3.12/dist-packages/numpy/core/include/numpy/ndarraytypes.h:1929\u001b[m\u001b[K,\n",
            "                 from \u001b[01m\u001b[K/usr/local/lib/python3.12/dist-packages/numpy/core/include/numpy/ndarrayobject.h:12\u001b[m\u001b[K,\n",
            "                 from \u001b[01m\u001b[K/usr/local/lib/python3.12/dist-packages/numpy/core/include/numpy/arrayobject.h:5\u001b[m\u001b[K,\n",
            "                 from \u001b[01m\u001b[Kwrapper.cpp:2\u001b[m\u001b[K:\n",
            "\u001b[01m\u001b[K/usr/local/lib/python3.12/dist-packages/numpy/core/include/numpy/npy_1_7_deprecated_api.h:17:2:\u001b[m\u001b[K \u001b[01;35m\u001b[Kwarning: \u001b[m\u001b[K#warning \"Using deprecated NumPy API, disable it with \" \"#define NPY_NO_DEPRECATED_API NPY_1_7_API_VERSION\" [\u001b[01;35m\u001b[K\u001b]8;;https://gcc.gnu.org/onlinedocs/gcc/Warning-Options.html#index-Wcpp\u0007-Wcpp\u001b]8;;\u0007\u001b[m\u001b[K]\n",
            "   17 | #\u001b[01;35m\u001b[Kwarning\u001b[m\u001b[K \"Using deprecated NumPy API, disable it with \" \\\n",
            "      |  \u001b[01;35m\u001b[K^~~~~~~\u001b[m\u001b[K\n",
            "\u001b[01m\u001b[Kwrapper.cpp:\u001b[m\u001b[K In function ‘\u001b[01m\u001b[KPyObject* batch_subsampling(PyObject*, PyObject*, PyObject*)\u001b[m\u001b[K’:\n",
            "\u001b[01m\u001b[Kwrapper.cpp:75:35:\u001b[m\u001b[K \u001b[01;35m\u001b[Kwarning: \u001b[m\u001b[KISO C++ forbids converting a string constant to ‘\u001b[01m\u001b[Kchar*\u001b[m\u001b[K’ [\u001b[01;35m\u001b[K\u001b]8;;https://gcc.gnu.org/onlinedocs/gcc/Warning-Options.html#index-Wwrite-strings\u0007-Wwrite-strings\u001b]8;;\u0007\u001b[m\u001b[K]\n",
            "   75 |         static char* kwlist[] = { \u001b[01;35m\u001b[K\"points\"\u001b[m\u001b[K, \"batches\", \"features\", \"classes\", \"sampleDl\", \"method\", \"max_p\", \"verbose\", NULL };\n",
            "      |                                   \u001b[01;35m\u001b[K^~~~~~~~\u001b[m\u001b[K\n",
            "\u001b[01m\u001b[Kwrapper.cpp:75:45:\u001b[m\u001b[K \u001b[01;35m\u001b[Kwarning: \u001b[m\u001b[KISO C++ forbids converting a string constant to ‘\u001b[01m\u001b[Kchar*\u001b[m\u001b[K’ [\u001b[01;35m\u001b[K\u001b]8;;https://gcc.gnu.org/onlinedocs/gcc/Warning-Options.html#index-Wwrite-strings\u0007-Wwrite-strings\u001b]8;;\u0007\u001b[m\u001b[K]\n",
            "   75 |         static char* kwlist[] = { \"points\", \u001b[01;35m\u001b[K\"batches\"\u001b[m\u001b[K, \"features\", \"classes\", \"sampleDl\", \"method\", \"max_p\", \"verbose\", NULL };\n",
            "      |                                             \u001b[01;35m\u001b[K^~~~~~~~~\u001b[m\u001b[K\n",
            "\u001b[01m\u001b[Kwrapper.cpp:75:56:\u001b[m\u001b[K \u001b[01;35m\u001b[Kwarning: \u001b[m\u001b[KISO C++ forbids converting a string constant to ‘\u001b[01m\u001b[Kchar*\u001b[m\u001b[K’ [\u001b[01;35m\u001b[K\u001b]8;;https://gcc.gnu.org/onlinedocs/gcc/Warning-Options.html#index-Wwrite-strings\u0007-Wwrite-strings\u001b]8;;\u0007\u001b[m\u001b[K]\n",
            "   75 |         static char* kwlist[] = { \"points\", \"batches\", \u001b[01;35m\u001b[K\"features\"\u001b[m\u001b[K, \"classes\", \"sampleDl\", \"method\", \"max_p\", \"verbose\", NULL };\n",
            "      |                                                        \u001b[01;35m\u001b[K^~~~~~~~~~\u001b[m\u001b[K\n",
            "\u001b[01m\u001b[Kwrapper.cpp:75:68:\u001b[m\u001b[K \u001b[01;35m\u001b[Kwarning: \u001b[m\u001b[KISO C++ forbids converting a string constant to ‘\u001b[01m\u001b[Kchar*\u001b[m\u001b[K’ [\u001b[01;35m\u001b[K\u001b]8;;https://gcc.gnu.org/onlinedocs/gcc/Warning-Options.html#index-Wwrite-strings\u0007-Wwrite-strings\u001b]8;;\u0007\u001b[m\u001b[K]\n",
            "   75 |         static char* kwlist[] = { \"points\", \"batches\", \"features\", \u001b[01;35m\u001b[K\"classes\"\u001b[m\u001b[K, \"sampleDl\", \"method\", \"max_p\", \"verbose\", NULL };\n",
            "      |                                                                    \u001b[01;35m\u001b[K^~~~~~~~~\u001b[m\u001b[K\n",
            "\u001b[01m\u001b[Kwrapper.cpp:75:79:\u001b[m\u001b[K \u001b[01;35m\u001b[Kwarning: \u001b[m\u001b[KISO C++ forbids converting a string constant to ‘\u001b[01m\u001b[Kchar*\u001b[m\u001b[K’ [\u001b[01;35m\u001b[K\u001b]8;;https://gcc.gnu.org/onlinedocs/gcc/Warning-Options.html#index-Wwrite-strings\u0007-Wwrite-strings\u001b]8;;\u0007\u001b[m\u001b[K]\n",
            "   75 |         static char* kwlist[] = { \"points\", \"batches\", \"features\", \"classes\", \u001b[01;35m\u001b[K\"sampleDl\"\u001b[m\u001b[K, \"method\", \"max_p\", \"verbose\", NULL };\n",
            "      |                                                                               \u001b[01;35m\u001b[K^~~~~~~~~~\u001b[m\u001b[K\n",
            "\u001b[01m\u001b[Kwrapper.cpp:75:91:\u001b[m\u001b[K \u001b[01;35m\u001b[Kwarning: \u001b[m\u001b[KISO C++ forbids converting a string constant to ‘\u001b[01m\u001b[Kchar*\u001b[m\u001b[K’ [\u001b[01;35m\u001b[K\u001b]8;;https://gcc.gnu.org/onlinedocs/gcc/Warning-Options.html#index-Wwrite-strings\u0007-Wwrite-strings\u001b]8;;\u0007\u001b[m\u001b[K]\n",
            "   75 |         static char* kwlist[] = { \"points\", \"batches\", \"features\", \"classes\", \"sampleDl\", \u001b[01;35m\u001b[K\"method\"\u001b[m\u001b[K, \"max_p\", \"verbose\", NULL };\n",
            "      |                                                                                           \u001b[01;35m\u001b[K^~~~~~~~\u001b[m\u001b[K\n",
            "\u001b[01m\u001b[Kwrapper.cpp:75:101:\u001b[m\u001b[K \u001b[01;35m\u001b[Kwarning: \u001b[m\u001b[KISO C++ forbids converting a string constant to ‘\u001b[01m\u001b[Kchar*\u001b[m\u001b[K’ [\u001b[01;35m\u001b[K\u001b]8;;https://gcc.gnu.org/onlinedocs/gcc/Warning-Options.html#index-Wwrite-strings\u0007-Wwrite-strings\u001b]8;;\u0007\u001b[m\u001b[K]\n",
            "   75 |         static char* kwlist[] = { \"points\", \"batches\", \"features\", \"classes\", \"sampleDl\", \"method\", \u001b[01;35m\u001b[K\"max_p\"\u001b[m\u001b[K, \"verbose\", NULL };\n",
            "      |                                                                                                     \u001b[01;35m\u001b[K^~~~~~~\u001b[m\u001b[K\n",
            "\u001b[01m\u001b[Kwrapper.cpp:75:110:\u001b[m\u001b[K \u001b[01;35m\u001b[Kwarning: \u001b[m\u001b[KISO C++ forbids converting a string constant to ‘\u001b[01m\u001b[Kchar*\u001b[m\u001b[K’ [\u001b[01;35m\u001b[K\u001b]8;;https://gcc.gnu.org/onlinedocs/gcc/Warning-Options.html#index-Wwrite-strings\u0007-Wwrite-strings\u001b]8;;\u0007\u001b[m\u001b[K]\n",
            "   75 |         static char* kwlist[] = { \"points\", \"batches\", \"features\", \"classes\", \"sampleDl\", \"method\", \"max_p\", \u001b[01;35m\u001b[K\"verbose\"\u001b[m\u001b[K, NULL };\n",
            "      |                                                                                                              \u001b[01;35m\u001b[K^~~~~~~~~\u001b[m\u001b[K\n",
            "\u001b[01m\u001b[Kwrapper.cpp:\u001b[m\u001b[K In function ‘\u001b[01m\u001b[KPyObject* cloud_subsampling(PyObject*, PyObject*, PyObject*)\u001b[m\u001b[K’:\n",
            "\u001b[01m\u001b[Kwrapper.cpp:350:35:\u001b[m\u001b[K \u001b[01;35m\u001b[Kwarning: \u001b[m\u001b[KISO C++ forbids converting a string constant to ‘\u001b[01m\u001b[Kchar*\u001b[m\u001b[K’ [\u001b[01;35m\u001b[K\u001b]8;;https://gcc.gnu.org/onlinedocs/gcc/Warning-Options.html#index-Wwrite-strings\u0007-Wwrite-strings\u001b]8;;\u0007\u001b[m\u001b[K]\n",
            "  350 |         static char* kwlist[] = { \u001b[01;35m\u001b[K\"points\"\u001b[m\u001b[K, \"features\", \"classes\", \"sampleDl\", \"method\", \"verbose\", NULL };\n",
            "      |                                   \u001b[01;35m\u001b[K^~~~~~~~\u001b[m\u001b[K\n",
            "\u001b[01m\u001b[Kwrapper.cpp:350:45:\u001b[m\u001b[K \u001b[01;35m\u001b[Kwarning: \u001b[m\u001b[KISO C++ forbids converting a string constant to ‘\u001b[01m\u001b[Kchar*\u001b[m\u001b[K’ [\u001b[01;35m\u001b[K\u001b]8;;https://gcc.gnu.org/onlinedocs/gcc/Warning-Options.html#index-Wwrite-strings\u0007-Wwrite-strings\u001b]8;;\u0007\u001b[m\u001b[K]\n",
            "  350 |         static char* kwlist[] = { \"points\", \u001b[01;35m\u001b[K\"features\"\u001b[m\u001b[K, \"classes\", \"sampleDl\", \"method\", \"verbose\", NULL };\n",
            "      |                                             \u001b[01;35m\u001b[K^~~~~~~~~~\u001b[m\u001b[K\n",
            "\u001b[01m\u001b[Kwrapper.cpp:350:57:\u001b[m\u001b[K \u001b[01;35m\u001b[Kwarning: \u001b[m\u001b[KISO C++ forbids converting a string constant to ‘\u001b[01m\u001b[Kchar*\u001b[m\u001b[K’ [\u001b[01;35m\u001b[K\u001b]8;;https://gcc.gnu.org/onlinedocs/gcc/Warning-Options.html#index-Wwrite-strings\u0007-Wwrite-strings\u001b]8;;\u0007\u001b[m\u001b[K]\n",
            "  350 |         static char* kwlist[] = { \"points\", \"features\", \u001b[01;35m\u001b[K\"classes\"\u001b[m\u001b[K, \"sampleDl\", \"method\", \"verbose\", NULL };\n",
            "      |                                                         \u001b[01;35m\u001b[K^~~~~~~~~\u001b[m\u001b[K\n",
            "\u001b[01m\u001b[Kwrapper.cpp:350:68:\u001b[m\u001b[K \u001b[01;35m\u001b[Kwarning: \u001b[m\u001b[KISO C++ forbids converting a string constant to ‘\u001b[01m\u001b[Kchar*\u001b[m\u001b[K’ [\u001b[01;35m\u001b[K\u001b]8;;https://gcc.gnu.org/onlinedocs/gcc/Warning-Options.html#index-Wwrite-strings\u0007-Wwrite-strings\u001b]8;;\u0007\u001b[m\u001b[K]\n",
            "  350 |         static char* kwlist[] = { \"points\", \"features\", \"classes\", \u001b[01;35m\u001b[K\"sampleDl\"\u001b[m\u001b[K, \"method\", \"verbose\", NULL };\n",
            "      |                                                                    \u001b[01;35m\u001b[K^~~~~~~~~~\u001b[m\u001b[K\n",
            "\u001b[01m\u001b[Kwrapper.cpp:350:80:\u001b[m\u001b[K \u001b[01;35m\u001b[Kwarning: \u001b[m\u001b[KISO C++ forbids converting a string constant to ‘\u001b[01m\u001b[Kchar*\u001b[m\u001b[K’ [\u001b[01;35m\u001b[K\u001b]8;;https://gcc.gnu.org/onlinedocs/gcc/Warning-Options.html#index-Wwrite-strings\u0007-Wwrite-strings\u001b]8;;\u0007\u001b[m\u001b[K]\n",
            "  350 |         static char* kwlist[] = { \"points\", \"features\", \"classes\", \"sampleDl\", \u001b[01;35m\u001b[K\"method\"\u001b[m\u001b[K, \"verbose\", NULL };\n",
            "      |                                                                                \u001b[01;35m\u001b[K^~~~~~~~\u001b[m\u001b[K\n",
            "\u001b[01m\u001b[Kwrapper.cpp:350:90:\u001b[m\u001b[K \u001b[01;35m\u001b[Kwarning: \u001b[m\u001b[KISO C++ forbids converting a string constant to ‘\u001b[01m\u001b[Kchar*\u001b[m\u001b[K’ [\u001b[01;35m\u001b[K\u001b]8;;https://gcc.gnu.org/onlinedocs/gcc/Warning-Options.html#index-Wwrite-strings\u0007-Wwrite-strings\u001b]8;;\u0007\u001b[m\u001b[K]\n",
            "  350 |         static char* kwlist[] = { \"points\", \"features\", \"classes\", \"sampleDl\", \"method\", \u001b[01;35m\u001b[K\"verbose\"\u001b[m\u001b[K, NULL };\n",
            "      |                                                                                          \u001b[01;35m\u001b[K^~~~~~~~~\u001b[m\u001b[K\n",
            "x86_64-linux-gnu-g++ -fno-strict-overflow -Wsign-compare -DNDEBUG -g -O2 -Wall -g -fstack-protector-strong -Wformat -Werror=format-security -g -fwrapv -O2 -shared -Wl,-O1 -Wl,-Bsymbolic-functions -Wl,-Bsymbolic-functions -g -fwrapv -O2 build/temp.linux-x86_64-cpython-312/../cpp_utils/cloud/cloud.o build/temp.linux-x86_64-cpython-312/grid_subsampling/grid_subsampling.o build/temp.linux-x86_64-cpython-312/wrapper.o -L/usr/lib/x86_64-linux-gnu -o build/lib.linux-x86_64-cpython-312/grid_subsampling.cpython-312-x86_64-linux-gnu.so\n",
            "copying build/lib.linux-x86_64-cpython-312/grid_subsampling.cpython-312-x86_64-linux-gnu.so -> \n",
            "/content/KPConv-PyTorch/cpp_wrappers/cpp_neighbors\n",
            "running build_ext\n",
            "building 'radius_neighbors' extension\n",
            "x86_64-linux-gnu-g++ -fno-strict-overflow -Wsign-compare -DNDEBUG -g -O2 -Wall -g -fstack-protector-strong -Wformat -Werror=format-security -g -fwrapv -O2 -fPIC -I/usr/local/lib/python3.12/dist-packages/numpy/core/include -Ineighbors -I../cpp_utils -I/usr/include/python3.12 -c ../cpp_utils/cloud/cloud.cpp -o build/temp.linux-x86_64-cpython-312/../cpp_utils/cloud/cloud.o -O3 -std=c++14\n",
            "x86_64-linux-gnu-g++ -fno-strict-overflow -Wsign-compare -DNDEBUG -g -O2 -Wall -g -fstack-protector-strong -Wformat -Werror=format-security -g -fwrapv -O2 -fPIC -I/usr/local/lib/python3.12/dist-packages/numpy/core/include -Ineighbors -I../cpp_utils -I/usr/include/python3.12 -c neighbors/neighbors.cpp -o build/temp.linux-x86_64-cpython-312/neighbors/neighbors.o -O3 -std=c++14\n",
            "\u001b[01m\u001b[Kneighbors/neighbors.cpp:\u001b[m\u001b[K In function ‘\u001b[01m\u001b[Kvoid brute_neighbors(std::vector<PointXYZ>&, std::vector<PointXYZ>&, std::vector<int>&, float, int)\u001b[m\u001b[K’:\n",
            "\u001b[01m\u001b[Kneighbors/neighbors.cpp:32:52:\u001b[m\u001b[K \u001b[01;35m\u001b[Kwarning: \u001b[m\u001b[Kcomparison of integer expressions of different signedness: ‘\u001b[01m\u001b[Kstd::vector<int>::size_type\u001b[m\u001b[K’ {aka ‘\u001b[01m\u001b[Klong unsigned int\u001b[m\u001b[K’} and ‘\u001b[01m\u001b[Kint\u001b[m\u001b[K’ [\u001b[01;35m\u001b[K\u001b]8;;https://gcc.gnu.org/onlinedocs/gcc/Warning-Options.html#index-Wsign-compare\u0007-Wsign-compare\u001b]8;;\u0007\u001b[m\u001b[K]\n",
            "   32 |                                 if (\u001b[01;35m\u001b[Ktmp[i0].size() > max_count\u001b[m\u001b[K)\n",
            "      |                                     \u001b[01;35m\u001b[K~~~~~~~~~~~~~~~^~~~~~~~~~~\u001b[m\u001b[K\n",
            "\u001b[01m\u001b[Kneighbors/neighbors.cpp:47:31:\u001b[m\u001b[K \u001b[01;35m\u001b[Kwarning: \u001b[m\u001b[Kcomparison of integer expressions of different signedness: ‘\u001b[01m\u001b[Kint\u001b[m\u001b[K’ and ‘\u001b[01m\u001b[Kstd::vector<int>::size_type\u001b[m\u001b[K’ {aka ‘\u001b[01m\u001b[Klong unsigned int\u001b[m\u001b[K’} [\u001b[01;35m\u001b[K\u001b]8;;https://gcc.gnu.org/onlinedocs/gcc/Warning-Options.html#index-Wsign-compare\u0007-Wsign-compare\u001b]8;;\u0007\u001b[m\u001b[K]\n",
            "   47 |                         if (\u001b[01;35m\u001b[Kj < inds.size()\u001b[m\u001b[K)\n",
            "      |                             \u001b[01;35m\u001b[K~~^~~~~~~~~~~~~\u001b[m\u001b[K\n",
            "\u001b[01m\u001b[Kneighbors/neighbors.cpp:\u001b[m\u001b[K In function ‘\u001b[01m\u001b[Kvoid ordered_neighbors(std::vector<PointXYZ>&, std::vector<PointXYZ>&, std::vector<int>&, float)\u001b[m\u001b[K’:\n",
            "\u001b[01m\u001b[Kneighbors/neighbors.cpp:99:52:\u001b[m\u001b[K \u001b[01;35m\u001b[Kwarning: \u001b[m\u001b[Kcomparison of integer expressions of different signedness: ‘\u001b[01m\u001b[Kstd::vector<int>::size_type\u001b[m\u001b[K’ {aka ‘\u001b[01m\u001b[Klong unsigned int\u001b[m\u001b[K’} and ‘\u001b[01m\u001b[Kint\u001b[m\u001b[K’ [\u001b[01;35m\u001b[K\u001b]8;;https://gcc.gnu.org/onlinedocs/gcc/Warning-Options.html#index-Wsign-compare\u0007-Wsign-compare\u001b]8;;\u0007\u001b[m\u001b[K]\n",
            "   99 |                                 if (\u001b[01;35m\u001b[Ktmp[i0].size() > max_count\u001b[m\u001b[K)\n",
            "      |                                     \u001b[01;35m\u001b[K~~~~~~~~~~~~~~~^~~~~~~~~~~\u001b[m\u001b[K\n",
            "\u001b[01m\u001b[Kneighbors/neighbors.cpp:114:31:\u001b[m\u001b[K \u001b[01;35m\u001b[Kwarning: \u001b[m\u001b[Kcomparison of integer expressions of different signedness: ‘\u001b[01m\u001b[Kint\u001b[m\u001b[K’ and ‘\u001b[01m\u001b[Kstd::vector<int>::size_type\u001b[m\u001b[K’ {aka ‘\u001b[01m\u001b[Klong unsigned int\u001b[m\u001b[K’} [\u001b[01;35m\u001b[K\u001b]8;;https://gcc.gnu.org/onlinedocs/gcc/Warning-Options.html#index-Wsign-compare\u0007-Wsign-compare\u001b]8;;\u0007\u001b[m\u001b[K]\n",
            "  114 |                         if (\u001b[01;35m\u001b[Kj < inds.size()\u001b[m\u001b[K)\n",
            "      |                             \u001b[01;35m\u001b[K~~^~~~~~~~~~~~~\u001b[m\u001b[K\n",
            "\u001b[01m\u001b[Kneighbors/neighbors.cpp:\u001b[m\u001b[K In function ‘\u001b[01m\u001b[Kvoid batch_ordered_neighbors(std::vector<PointXYZ>&, std::vector<PointXYZ>&, std::vector<int>&, std::vector<int>&, std::vector<int>&, float)\u001b[m\u001b[K’:\n",
            "\u001b[01m\u001b[Kneighbors/neighbors.cpp:184:52:\u001b[m\u001b[K \u001b[01;35m\u001b[Kwarning: \u001b[m\u001b[Kcomparison of integer expressions of different signedness: ‘\u001b[01m\u001b[Kstd::vector<int>::size_type\u001b[m\u001b[K’ {aka ‘\u001b[01m\u001b[Klong unsigned int\u001b[m\u001b[K’} and ‘\u001b[01m\u001b[Kint\u001b[m\u001b[K’ [\u001b[01;35m\u001b[K\u001b]8;;https://gcc.gnu.org/onlinedocs/gcc/Warning-Options.html#index-Wsign-compare\u0007-Wsign-compare\u001b]8;;\u0007\u001b[m\u001b[K]\n",
            "  184 |                                 if (\u001b[01;35m\u001b[Ktmp[i0].size() > max_count\u001b[m\u001b[K)\n",
            "      |                                     \u001b[01;35m\u001b[K~~~~~~~~~~~~~~~^~~~~~~~~~~\u001b[m\u001b[K\n",
            "\u001b[01m\u001b[Kneighbors/neighbors.cpp:199:31:\u001b[m\u001b[K \u001b[01;35m\u001b[Kwarning: \u001b[m\u001b[Kcomparison of integer expressions of different signedness: ‘\u001b[01m\u001b[Kint\u001b[m\u001b[K’ and ‘\u001b[01m\u001b[Kstd::vector<int>::size_type\u001b[m\u001b[K’ {aka ‘\u001b[01m\u001b[Klong unsigned int\u001b[m\u001b[K’} [\u001b[01;35m\u001b[K\u001b]8;;https://gcc.gnu.org/onlinedocs/gcc/Warning-Options.html#index-Wsign-compare\u0007-Wsign-compare\u001b]8;;\u0007\u001b[m\u001b[K]\n",
            "  199 |                         if (\u001b[01;35m\u001b[Kj < inds.size()\u001b[m\u001b[K)\n",
            "      |                             \u001b[01;35m\u001b[K~~^~~~~~~~~~~~~\u001b[m\u001b[K\n",
            "\u001b[01m\u001b[Kneighbors/neighbors.cpp:\u001b[m\u001b[K In function ‘\u001b[01m\u001b[Kvoid batch_nanoflann_neighbors(std::vector<PointXYZ>&, std::vector<PointXYZ>&, std::vector<int>&, std::vector<int>&, std::vector<int>&, float)\u001b[m\u001b[K’:\n",
            "\u001b[01m\u001b[Kneighbors/neighbors.cpp:296:22:\u001b[m\u001b[K \u001b[01;35m\u001b[Kwarning: \u001b[m\u001b[Kcomparison of integer expressions of different signedness: ‘\u001b[01m\u001b[Ksize_t\u001b[m\u001b[K’ {aka ‘\u001b[01m\u001b[Klong unsigned int\u001b[m\u001b[K’} and ‘\u001b[01m\u001b[Kint\u001b[m\u001b[K’ [\u001b[01;35m\u001b[K\u001b]8;;https://gcc.gnu.org/onlinedocs/gcc/Warning-Options.html#index-Wsign-compare\u0007-Wsign-compare\u001b]8;;\u0007\u001b[m\u001b[K]\n",
            "  296 |         if (\u001b[01;35m\u001b[KnMatches > max_count\u001b[m\u001b[K)\n",
            "      |             \u001b[01;35m\u001b[K~~~~~~~~~^~~~~~~~~~~\u001b[m\u001b[K\n",
            "\u001b[01m\u001b[Kneighbors/neighbors.cpp:321:31:\u001b[m\u001b[K \u001b[01;35m\u001b[Kwarning: \u001b[m\u001b[Kcomparison of integer expressions of different signedness: ‘\u001b[01m\u001b[Kint\u001b[m\u001b[K’ and ‘\u001b[01m\u001b[Kstd::vector<std::pair<long unsigned int, float> >::size_type\u001b[m\u001b[K’ {aka ‘\u001b[01m\u001b[Klong unsigned int\u001b[m\u001b[K’} [\u001b[01;35m\u001b[K\u001b]8;;https://gcc.gnu.org/onlinedocs/gcc/Warning-Options.html#index-Wsign-compare\u0007-Wsign-compare\u001b]8;;\u0007\u001b[m\u001b[K]\n",
            "  321 |                         if (\u001b[01;35m\u001b[Kj < inds_dists.size()\u001b[m\u001b[K)\n",
            "      |                             \u001b[01;35m\u001b[K~~^~~~~~~~~~~~~~~~~~~\u001b[m\u001b[K\n",
            "\u001b[01m\u001b[Kneighbors/neighbors.cpp:230:15:\u001b[m\u001b[K \u001b[01;35m\u001b[Kwarning: \u001b[m\u001b[Kunused variable ‘\u001b[01m\u001b[Kd2\u001b[m\u001b[K’ [\u001b[01;35m\u001b[K\u001b]8;;https://gcc.gnu.org/onlinedocs/gcc/Warning-Options.html#index-Wunused-variable\u0007-Wunused-variable\u001b]8;;\u0007\u001b[m\u001b[K]\n",
            "  230 |         float \u001b[01;35m\u001b[Kd2\u001b[m\u001b[K;\n",
            "      |               \u001b[01;35m\u001b[K^~\u001b[m\u001b[K\n",
            "x86_64-linux-gnu-g++ -fno-strict-overflow -Wsign-compare -DNDEBUG -g -O2 -Wall -g -fstack-protector-strong -Wformat -Werror=format-security -g -fwrapv -O2 -fPIC -I/usr/local/lib/python3.12/dist-packages/numpy/core/include -Ineighbors -I../cpp_utils -I/usr/include/python3.12 -c wrapper.cpp -o build/temp.linux-x86_64-cpython-312/wrapper.o -O3 -std=c++14\n",
            "In file included from \u001b[01m\u001b[K/usr/local/lib/python3.12/dist-packages/numpy/core/include/numpy/ndarraytypes.h:1929\u001b[m\u001b[K,\n",
            "                 from \u001b[01m\u001b[K/usr/local/lib/python3.12/dist-packages/numpy/core/include/numpy/ndarrayobject.h:12\u001b[m\u001b[K,\n",
            "                 from \u001b[01m\u001b[K/usr/local/lib/python3.12/dist-packages/numpy/core/include/numpy/arrayobject.h:5\u001b[m\u001b[K,\n",
            "                 from \u001b[01m\u001b[Kwrapper.cpp:2\u001b[m\u001b[K:\n",
            "\u001b[01m\u001b[K/usr/local/lib/python3.12/dist-packages/numpy/core/include/numpy/npy_1_7_deprecated_api.h:17:2:\u001b[m\u001b[K \u001b[01;35m\u001b[Kwarning: \u001b[m\u001b[K#warning \"Using deprecated NumPy API, disable it with \" \"#define NPY_NO_DEPRECATED_API NPY_1_7_API_VERSION\" [\u001b[01;35m\u001b[K\u001b]8;;https://gcc.gnu.org/onlinedocs/gcc/Warning-Options.html#index-Wcpp\u0007-Wcpp\u001b]8;;\u0007\u001b[m\u001b[K]\n",
            "   17 | #\u001b[01;35m\u001b[Kwarning\u001b[m\u001b[K \"Using deprecated NumPy API, disable it with \" \\\n",
            "      |  \u001b[01;35m\u001b[K^~~~~~~\u001b[m\u001b[K\n",
            "\u001b[01m\u001b[Kwrapper.cpp:\u001b[m\u001b[K In function ‘\u001b[01m\u001b[KPyObject* batch_neighbors(PyObject*, PyObject*, PyObject*)\u001b[m\u001b[K’:\n",
            "\u001b[01m\u001b[Kwrapper.cpp:71:35:\u001b[m\u001b[K \u001b[01;35m\u001b[Kwarning: \u001b[m\u001b[KISO C++ forbids converting a string constant to ‘\u001b[01m\u001b[Kchar*\u001b[m\u001b[K’ [\u001b[01;35m\u001b[K\u001b]8;;https://gcc.gnu.org/onlinedocs/gcc/Warning-Options.html#index-Wwrite-strings\u0007-Wwrite-strings\u001b]8;;\u0007\u001b[m\u001b[K]\n",
            "   71 |         static char* kwlist[] = { \u001b[01;35m\u001b[K\"queries\"\u001b[m\u001b[K, \"supports\", \"q_batches\", \"s_batches\", \"radius\", NULL };\n",
            "      |                                   \u001b[01;35m\u001b[K^~~~~~~~~\u001b[m\u001b[K\n",
            "\u001b[01m\u001b[Kwrapper.cpp:71:46:\u001b[m\u001b[K \u001b[01;35m\u001b[Kwarning: \u001b[m\u001b[KISO C++ forbids converting a string constant to ‘\u001b[01m\u001b[Kchar*\u001b[m\u001b[K’ [\u001b[01;35m\u001b[K\u001b]8;;https://gcc.gnu.org/onlinedocs/gcc/Warning-Options.html#index-Wwrite-strings\u0007-Wwrite-strings\u001b]8;;\u0007\u001b[m\u001b[K]\n",
            "   71 |         static char* kwlist[] = { \"queries\", \u001b[01;35m\u001b[K\"supports\"\u001b[m\u001b[K, \"q_batches\", \"s_batches\", \"radius\", NULL };\n",
            "      |                                              \u001b[01;35m\u001b[K^~~~~~~~~~\u001b[m\u001b[K\n",
            "\u001b[01m\u001b[Kwrapper.cpp:71:58:\u001b[m\u001b[K \u001b[01;35m\u001b[Kwarning: \u001b[m\u001b[KISO C++ forbids converting a string constant to ‘\u001b[01m\u001b[Kchar*\u001b[m\u001b[K’ [\u001b[01;35m\u001b[K\u001b]8;;https://gcc.gnu.org/onlinedocs/gcc/Warning-Options.html#index-Wwrite-strings\u0007-Wwrite-strings\u001b]8;;\u0007\u001b[m\u001b[K]\n",
            "   71 |         static char* kwlist[] = { \"queries\", \"supports\", \u001b[01;35m\u001b[K\"q_batches\"\u001b[m\u001b[K, \"s_batches\", \"radius\", NULL };\n",
            "      |                                                          \u001b[01;35m\u001b[K^~~~~~~~~~~\u001b[m\u001b[K\n",
            "\u001b[01m\u001b[Kwrapper.cpp:71:71:\u001b[m\u001b[K \u001b[01;35m\u001b[Kwarning: \u001b[m\u001b[KISO C++ forbids converting a string constant to ‘\u001b[01m\u001b[Kchar*\u001b[m\u001b[K’ [\u001b[01;35m\u001b[K\u001b]8;;https://gcc.gnu.org/onlinedocs/gcc/Warning-Options.html#index-Wwrite-strings\u0007-Wwrite-strings\u001b]8;;\u0007\u001b[m\u001b[K]\n",
            "   71 |         static char* kwlist[] = { \"queries\", \"supports\", \"q_batches\", \u001b[01;35m\u001b[K\"s_batches\"\u001b[m\u001b[K, \"radius\", NULL };\n",
            "      |                                                                       \u001b[01;35m\u001b[K^~~~~~~~~~~\u001b[m\u001b[K\n",
            "\u001b[01m\u001b[Kwrapper.cpp:71:84:\u001b[m\u001b[K \u001b[01;35m\u001b[Kwarning: \u001b[m\u001b[KISO C++ forbids converting a string constant to ‘\u001b[01m\u001b[Kchar*\u001b[m\u001b[K’ [\u001b[01;35m\u001b[K\u001b]8;;https://gcc.gnu.org/onlinedocs/gcc/Warning-Options.html#index-Wwrite-strings\u0007-Wwrite-strings\u001b]8;;\u0007\u001b[m\u001b[K]\n",
            "   71 |         static char* kwlist[] = { \"queries\", \"supports\", \"q_batches\", \"s_batches\", \u001b[01;35m\u001b[K\"radius\"\u001b[m\u001b[K, NULL };\n",
            "      |                                                                                    \u001b[01;35m\u001b[K^~~~~~~~\u001b[m\u001b[K\n",
            "x86_64-linux-gnu-g++ -fno-strict-overflow -Wsign-compare -DNDEBUG -g -O2 -Wall -g -fstack-protector-strong -Wformat -Werror=format-security -g -fwrapv -O2 -shared -Wl,-O1 -Wl,-Bsymbolic-functions -Wl,-Bsymbolic-functions -g -fwrapv -O2 build/temp.linux-x86_64-cpython-312/../cpp_utils/cloud/cloud.o build/temp.linux-x86_64-cpython-312/neighbors/neighbors.o build/temp.linux-x86_64-cpython-312/wrapper.o -L/usr/lib/x86_64-linux-gnu -o build/lib.linux-x86_64-cpython-312/radius_neighbors.cpython-312-x86_64-linux-gnu.so\n",
            "copying build/lib.linux-x86_64-cpython-312/radius_neighbors.cpython-312-x86_64-linux-gnu.so -> \n"
          ]
        }
      ],
      "source": [
        "# Toolchain\n",
        "!apt-get -qq update\n",
        "!apt-get -qq install -y build-essential cmake\n",
        "\n",
        "# Clone or update the repo\n",
        "import os, glob\n",
        "if not os.path.isdir(\"/content/KPConv-PyTorch\"):\n",
        "    !git clone --depth 1 https://github.com/HuguesTHOMAS/KPConv-PyTorch.git /content/KPConv-PyTorch\n",
        "else:\n",
        "    %cd /content/KPConv-PyTorch\n",
        "    !git pull\n",
        "\n",
        "# Remove any stale .so (both in clone and your project) to avoid ABI mismatches\n",
        "PROJECT_ROOT = \"/content/drive/MyDrive/kpconv_abc\"\n",
        "for p in glob.glob(\"/content/KPConv-PyTorch/cpp_wrappers/**/*.so\", recursive=True):\n",
        "    try: os.remove(p)\n",
        "    except: pass\n",
        "for p in glob.glob(f\"{PROJECT_ROOT}/cpp_wrappers/**/*.so\", recursive=True):\n",
        "    try: os.remove(p)\n",
        "    except: pass\n",
        "\n",
        "# Write Py3.12-friendly setup scripts that also compile ../cpp_utils/*.cpp\n",
        "sub_setup = r\"\"\"\n",
        "from setuptools import setup, Extension\n",
        "import numpy as np\n",
        "from pathlib import Path\n",
        "def glob_srcs(root): return [str(p) for p in Path(root).rglob(\"*.cpp\")]\n",
        "sources = [\"wrapper.cpp\"] + glob_srcs(\"grid_subsampling\") + glob_srcs(\"../cpp_utils\")\n",
        "ext = Extension(\"grid_subsampling\", sources=sources,\n",
        "                include_dirs=[np.get_include(), \"grid_subsampling\", \"../cpp_utils\"],\n",
        "                language=\"c++\", extra_compile_args=[\"-O3\",\"-std=c++14\"])\n",
        "setup(name=\"grid_subsampling\", version=\"0.0.0\", ext_modules=[ext])\n",
        "\"\"\"\n",
        "nei_setup = r\"\"\"\n",
        "from setuptools import setup, Extension\n",
        "import numpy as np\n",
        "from pathlib import Path\n",
        "def glob_srcs(root): return [str(p) for p in Path(root).rglob(\"*.cpp\")]\n",
        "sources = [\"wrapper.cpp\"] + glob_srcs(\"neighbors\") + glob_srcs(\"../cpp_utils\")\n",
        "ext = Extension(\"radius_neighbors\", sources=sources,\n",
        "                include_dirs=[np.get_include(), \"neighbors\", \"../cpp_utils\"],\n",
        "                language=\"c++\", extra_compile_args=[\"-O3\",\"-std=c++14\"])\n",
        "setup(name=\"radius_neighbors\", version=\"0.0.0\", ext_modules=[ext])\n",
        "\"\"\"\n",
        "open(\"/content/KPConv-PyTorch/cpp_wrappers/cpp_subsampling/setup_py312.py\",\"w\").write(sub_setup)\n",
        "open(\"/content/KPConv-PyTorch/cpp_wrappers/cpp_neighbors/setup_py312.py\",\"w\").write(nei_setup)\n",
        "\n",
        "# Build in place\n",
        "%cd /content/KPConv-PyTorch/cpp_wrappers/cpp_subsampling\n",
        "!python3 setup_py312.py build_ext --inplace -v\n",
        "%cd /content/KPConv-PyTorch/cpp_wrappers/cpp_neighbors\n",
        "!python3 setup_py312.py build_ext --inplace -v\n",
        "\n",
        "# Copy .so into YOUR project and make packages importable\n",
        "import os\n",
        "os.makedirs(f\"{PROJECT_ROOT}/cpp_wrappers/cpp_subsampling\", exist_ok=True)\n",
        "os.makedirs(f\"{PROJECT_ROOT}/cpp_wrappers/cpp_neighbors\",   exist_ok=True)\n",
        "open(f\"{PROJECT_ROOT}/cpp_wrappers/__init__.py\",\"a\").close()\n",
        "open(f\"{PROJECT_ROOT}/cpp_wrappers/cpp_subsampling/__init__.py\",\"a\").close()\n",
        "open(f\"{PROJECT_ROOT}/cpp_wrappers/cpp_neighbors/__init__.py\",\"a\").close()\n",
        "\n",
        "!cp /content/KPConv-PyTorch/cpp_wrappers/cpp_subsampling/*.so \"{PROJECT_ROOT}/cpp_wrappers/cpp_subsampling/\"\n",
        "!cp /content/KPConv-PyTorch/cpp_wrappers/cpp_neighbors/*.so   \"{PROJECT_ROOT}/cpp_wrappers/cpp_neighbors/\"\n"
      ]
    },
    {
      "cell_type": "code",
      "source": [
        "# Build KPConv wrappers in /content\n",
        "!git clone --depth 1 https://github.com/HuguesTHOMAS/KPConv-PyTorch.git /content/KPConv-PyTorch || true\n",
        "%cd /content/KPConv-PyTorch/cpp_wrappers/cpp_subsampling\n",
        "!python3 setup.py build_ext --inplace -v\n",
        "%cd /content/KPConv-PyTorch/cpp_wrappers/cpp_neighbors\n",
        "!python3 setup.py build_ext --inplace -v\n",
        "%cd /content\n",
        "!ls -la /content/KPConv-PyTorch/cpp_wrappers/cpp_subsampling/*.so\n",
        "!ls -la /content/KPConv-PyTorch/cpp_wrappers/cpp_neighbors/*.so\n",
        "\n",
        "# Copy built wrappers into YOUR project so the import path matches\n",
        "import os, shutil\n",
        "dst = os.path.join(PROJECT_ROOT, \"cpp_wrappers\")\n",
        "os.makedirs(dst, exist_ok=True)\n",
        "!rsync -a /content/KPConv-PyTorch/cpp_wrappers/ \"$dst\"/\n"
      ],
      "metadata": {
        "colab": {
          "base_uri": "https://localhost:8080/"
        },
        "id": "kwdxjYwgKVlU",
        "outputId": "6f797547-c394-49b5-fe49-a0d75c2b5310"
      },
      "execution_count": null,
      "outputs": [
        {
          "output_type": "stream",
          "name": "stdout",
          "text": [
            "fatal: destination path '/content/KPConv-PyTorch' already exists and is not an empty directory.\n",
            "/content/KPConv-PyTorch/cpp_wrappers/cpp_subsampling\n",
            "Traceback (most recent call last):\n",
            "  File \"/content/KPConv-PyTorch/cpp_wrappers/cpp_subsampling/setup.py\", line 2, in <module>\n",
            "    import numpy.distutils.misc_util\n",
            "ModuleNotFoundError: No module named 'numpy.distutils'\n",
            "/content/KPConv-PyTorch/cpp_wrappers/cpp_neighbors\n",
            "Traceback (most recent call last):\n",
            "  File \"/content/KPConv-PyTorch/cpp_wrappers/cpp_neighbors/setup.py\", line 2, in <module>\n",
            "    import numpy.distutils.misc_util\n",
            "ModuleNotFoundError: No module named 'numpy.distutils'\n",
            "/content\n",
            "-rwxr-xr-x 1 root root 879168 Aug 21 00:15 /content/KPConv-PyTorch/cpp_wrappers/cpp_subsampling/grid_subsampling.cpython-312-x86_64-linux-gnu.so\n",
            "-rwxr-xr-x 1 root root 687200 Aug 21 00:15 /content/KPConv-PyTorch/cpp_wrappers/cpp_neighbors/radius_neighbors.cpython-312-x86_64-linux-gnu.so\n"
          ]
        }
      ]
    },
    {
      "cell_type": "code",
      "source": [
        "import re, io, os\n",
        "abc_path = os.path.join(PROJECT_ROOT, \"datasets\", \"ABC.py\")\n",
        "with open(abc_path, \"r\", encoding=\"utf-8\") as f:\n",
        "    src = f.read()\n",
        "\n",
        "src2 = re.sub(\n",
        "    r\"import cpp_wrappers\\.cpp_subsampling\\.grid_subsampling as _gs\\s*?\\n\\s*?grid_subsample\\s*=\\s*_gs\\.subsample\\s*?\\n\\s*?grid_subsample_batch\\s*=\\s*_gs\\.subsample_batch\",\n",
        "    \"\"\"try:\n",
        "    from cpp_wrappers.cpp_subsampling.grid_subsampling import subsample as grid_subsample\n",
        "    from cpp_wrappers.cpp_subsampling.grid_subsampling import subsample_batch as grid_subsample_batch\n",
        "except (ImportError, AttributeError):\n",
        "    from cpp_wrappers.cpp_subsampling.grid_subsampling import grid_subsampling as grid_subsample\n",
        "    def grid_subsample_batch(points, features=None, labels=None, sampleDl=0.1, verbose=0):\n",
        "        return grid_subsample(points, features, labels, sampleDl, verbose)\"\"\",\n",
        "    src, flags=re.DOTALL\n",
        ")\n",
        "\n",
        "if src2 != src:\n",
        "    with open(abc_path, \"w\", encoding=\"utf-8\") as f:\n",
        "        f.write(src2)\n",
        "    print(\"Patched ABC.py to support both subsample APIs.\")\n",
        "else:\n",
        "    print(\"ABC.py already robust.\")\n"
      ],
      "metadata": {
        "colab": {
          "base_uri": "https://localhost:8080/"
        },
        "id": "Ls80WLbkKafh",
        "outputId": "95c75b84-8a34-41ee-a07b-89e1706a76e3"
      },
      "execution_count": null,
      "outputs": [
        {
          "output_type": "stream",
          "name": "stdout",
          "text": [
            "ABC.py already robust.\n"
          ]
        }
      ]
    },
    {
      "cell_type": "code",
      "source": [
        "# Remove packages that drag in NumPy>=2\n",
        "%pip -q uninstall -y numpy scipy scikit-learn tsfresh opencv-python opencv-contrib-python opencv-python-headless thinc umap-learn cuml-cu12 || true\n",
        "\n",
        "# Install a consistent Py3.12 stack with NumPy 1.26\n",
        "%pip -q install --no-cache-dir \"numpy==1.26.4\" \"scipy==1.11.4\" \"scikit-learn==1.4.2\" \"pybind11>=2.10,<2.12\" plyfile\n",
        "\n",
        "# HARD RESTART so 1.26 is actually imported\n",
        "import os; os.kill(os.getpid(), 9)\n"
      ],
      "metadata": {
        "colab": {
          "base_uri": "https://localhost:8080/"
        },
        "id": "tmseN6tu4BmQ",
        "outputId": "4d8770a6-7d11-412d-9107-4e3929d886b6"
      },
      "execution_count": null,
      "outputs": [
        {
          "output_type": "stream",
          "name": "stdout",
          "text": [
            "\u001b[31mERROR: pip's dependency resolver does not currently take into account all the packages that are installed. This behaviour is the source of the following dependency conflicts.\n",
            "albucore 0.0.24 requires opencv-python-headless>=4.9.0.80, which is not installed.\n",
            "albumentations 2.0.8 requires opencv-python-headless>=4.9.0.80, which is not installed.\n",
            "spacy 3.8.7 requires thinc<8.4.0,>=8.3.4, which is not installed.\n",
            "dopamine-rl 4.1.2 requires opencv-python>=3.4.8.29, which is not installed.\u001b[0m\u001b[31m\n",
            "\u001b[0m"
          ]
        }
      ]
    },
    {
      "cell_type": "code",
      "source": [
        "%pip -q install -U plyfile\n"
      ],
      "metadata": {
        "id": "GTGCZANC3B5x"
      },
      "execution_count": null,
      "outputs": []
    },
    {
      "cell_type": "markdown",
      "source": [
        "Start training"
      ],
      "metadata": {
        "id": "ahKVLkaCC3Ri"
      }
    },
    {
      "cell_type": "code",
      "source": [
        "import importlib\n",
        "from utils.config import Config\n",
        "from utils.trainer import set_seed\n",
        "\n",
        "cfg = Config()\n",
        "\n",
        "set_seed(getattr(cfg, \"seed\", 42))\n",
        "\n",
        "import os\n",
        "os.environ[\"BATCH_SIZE\"] = str(getattr(cfg, \"batch_size\", 2))\n",
        "os.environ[\"NUM_WORKERS\"] = str(getattr(cfg, \"num_workers\", 0))\n",
        "os.environ[\"PYTORCH_CUDA_ALLOC_CONF\"] = \"expandable_segments:True\"\n",
        "\n",
        "print(\"Batch:\", os.environ[\"BATCH_SIZE\"], \"Workers:\", os.environ[\"NUM_WORKERS\"])\n"
      ],
      "metadata": {
        "id": "C0yKi-O73yuT",
        "outputId": "ff42de75-28ce-433f-9709-5bd790b12137",
        "colab": {
          "base_uri": "https://localhost:8080/"
        }
      },
      "execution_count": null,
      "outputs": [
        {
          "output_type": "stream",
          "name": "stdout",
          "text": [
            "[seed] Global seed set to 42\n",
            "Batch: 2 Workers: 0\n"
          ]
        }
      ]
    },
    {
      "cell_type": "code",
      "source": [
        "from utils.config import Config\n",
        "from utils.trainer import Trainer, set_seed\n",
        "from datasets.ABC import ABCDataset, abc_collate\n",
        "from models.architecture import build_from_cfg\n",
        "import torch\n",
        "\n",
        "device = torch.device(\"cuda\" if torch.cuda.is_available() else \"cpu\")\n",
        "print(\"Device:\", device)\n",
        "\n",
        "# Load config\n",
        "cfg = Config()\n",
        "set_seed(cfg.seed)\n",
        "\n",
        "# Ensure radii\n",
        "if getattr(cfg, \"layer_radii\", None) is None:\n",
        "    cfg.layer_radii = [\n",
        "        cfg.conv_radius * cfg.first_subsampling_dl * float(m)\n",
        "        for m in cfg.layer_multipliers\n",
        "    ]\n",
        "\n",
        "# Datasets\n",
        "train_set = ABCDataset(cfg, split=\"Train\",      use_ssm=cfg.use_ssm, use_normals=cfg.use_normals, pool_cap=cfg.pool_cap)\n",
        "val_set   = ABCDataset(cfg, split=\"Validation\", use_ssm=cfg.use_ssm, use_normals=cfg.use_normals, pool_cap=cfg.pool_cap)\n",
        "\n",
        "# In-dim + model\n",
        "in_dim = train_set[0][\"features\"][0].shape[1]\n",
        "model = build_from_cfg(cfg, in_dim)\n",
        "\n",
        "# Trainer\n",
        "trainer = Trainer(cfg, model, train_set, val_set, device=device)\n",
        "trainer.in_dim = in_dim  # stored in ckpts for tester convenience\n",
        "trainer.fit()\n"
      ],
      "metadata": {
        "colab": {
          "base_uri": "https://localhost:8080/"
        },
        "id": "BN44z82-JZN7",
        "outputId": "b4d0bbd2-e1db-4c1e-a619-3b930039491a"
      },
      "execution_count": null,
      "outputs": [
        {
          "output_type": "stream",
          "name": "stdout",
          "text": [
            "Device: cuda\n",
            "[seed] Global seed set to 42\n",
            "[ABC] Fitting SSM mean/std on Train split (once) ...\n",
            "Training for 60 epochs on device=cuda\n",
            "[ep 01] train 0.5062 | val 0.1561 | P 0.462 R 0.355 F1 0.401 IoU 0.251 MCC 0.373 | peak 5.97 GB | 1565.1s\n",
            " ↑ Saved BEST (F1=0.401)\n",
            "[ep 02] train 0.3194 | val 0.2059 | P 0.350 R 0.653 F1 0.456 IoU 0.295 MCC 0.435 | peak 5.71 GB | 136.7s\n",
            " ↑ Saved BEST (F1=0.456)\n",
            "[ep 03] train 0.2866 | val 0.1844 | P 0.395 R 0.240 F1 0.299 IoU 0.176 MCC 0.276 | peak 5.82 GB | 133.1s\n",
            "[ep 04] train 0.2370 | val 0.1389 | P 0.690 R 0.305 F1 0.423 IoU 0.268 MCC 0.438 | peak 5.88 GB | 134.0s\n",
            "[ep 05] train 0.2337 | val 0.2730 | P 0.582 R 0.475 F1 0.523 IoU 0.354 MCC 0.500 | peak 6.00 GB | 133.3s\n",
            " ↑ Saved BEST (F1=0.523)\n",
            "[ep 06] train 0.2007 | val 0.2016 | P 0.456 R 0.332 F1 0.384 IoU 0.238 MCC 0.357 | peak 6.08 GB | 133.5s\n",
            "[ep 07] train 0.2191 | val 0.1554 | P 0.547 R 0.376 F1 0.446 IoU 0.287 MCC 0.426 | peak 5.92 GB | 134.1s\n",
            "[ep 08] train 0.1820 | val 0.1593 | P 0.608 R 0.332 F1 0.429 IoU 0.273 MCC 0.425 | peak 6.03 GB | 132.1s\n",
            "[ep 09] train 0.2070 | val 0.0913 | P 0.780 R 0.582 F1 0.666 IoU 0.500 MCC 0.657 | peak 6.01 GB | 133.1s\n",
            " ↑ Saved BEST (F1=0.666)\n",
            "[ep 10] train 0.1629 | val 0.2053 | P 0.512 R 0.319 F1 0.393 IoU 0.245 MCC 0.376 | peak 5.73 GB | 134.0s\n",
            "[ep 11] train 0.1674 | val 0.1155 | P 0.639 R 0.842 F1 0.726 IoU 0.570 MCC 0.715 | peak 6.55 GB | 133.1s\n",
            " ↑ Saved BEST (F1=0.726)\n",
            "[ep 12] train 0.1429 | val 0.1554 | P 0.734 R 0.838 F1 0.783 IoU 0.643 MCC 0.770 | peak 5.80 GB | 133.5s\n",
            " ↑ Saved BEST (F1=0.783)\n",
            "[ep 13] train 0.1478 | val 0.1433 | P 0.979 R 0.198 F1 0.330 IoU 0.197 MCC 0.430 | peak 6.55 GB | 134.1s\n",
            "[ep 14] train 0.1269 | val 0.1417 | P 0.751 R 0.424 F1 0.542 IoU 0.372 MCC 0.545 | peak 5.93 GB | 133.3s\n",
            "[ep 15] train 0.1211 | val 0.1384 | P 0.925 R 0.541 F1 0.683 IoU 0.519 MCC 0.695 | peak 5.86 GB | 133.0s\n",
            "[ep 16] train 0.1067 | val 0.1086 | P 0.752 R 0.743 F1 0.748 IoU 0.597 MCC 0.732 | peak 5.75 GB | 133.3s\n",
            "[ep 17] train 0.1011 | val 0.1254 | P 0.811 R 0.646 F1 0.719 IoU 0.561 MCC 0.709 | peak 5.99 GB | 132.6s\n",
            "[ep 18] train 0.0932 | val 0.1923 | P 0.955 R 0.166 F1 0.282 IoU 0.164 MCC 0.387 | peak 6.15 GB | 132.6s\n",
            "[ep 19] train 0.1002 | val 0.1016 | P 0.858 R 0.762 F1 0.807 IoU 0.677 MCC 0.798 | peak 6.12 GB | 133.6s\n",
            " ↑ Saved BEST (F1=0.807)\n",
            "[ep 20] train 0.0970 | val 0.1350 | P 0.590 R 0.673 F1 0.629 IoU 0.459 MCC 0.606 | peak 5.71 GB | 133.3s\n",
            "[ep 21] train 0.0818 | val 0.0953 | P 0.759 R 0.731 F1 0.745 IoU 0.593 MCC 0.730 | peak 5.87 GB | 133.3s\n",
            "[ep 22] train 0.1032 | val 0.1040 | P 0.736 R 0.648 F1 0.689 IoU 0.526 MCC 0.673 | peak 6.16 GB | 133.1s\n",
            "[ep 23] train 0.0774 | val 0.1079 | P 0.946 R 0.713 F1 0.813 IoU 0.685 MCC 0.812 | peak 7.43 GB | 133.6s\n",
            " ↑ Saved BEST (F1=0.813)\n",
            "[ep 24] train 0.0937 | val 0.1604 | P 0.981 R 0.373 F1 0.540 IoU 0.370 MCC 0.592 | peak 5.93 GB | 133.6s\n",
            "[ep 25] train 0.0928 | val 0.0971 | P 0.921 R 0.813 F1 0.864 IoU 0.760 MCC 0.858 | peak 6.14 GB | 133.7s\n",
            " ↑ Saved BEST (F1=0.864)\n",
            "[ep 26] train 0.0767 | val 0.1374 | P 0.838 R 0.702 F1 0.764 IoU 0.618 MCC 0.754 | peak 6.18 GB | 132.8s\n",
            "[ep 27] train 0.0600 | val 0.2384 | P 0.993 R 0.214 F1 0.352 IoU 0.213 MCC 0.450 | peak 6.06 GB | 133.0s\n",
            "[ep 28] train 0.0625 | val 0.1514 | P 0.972 R 0.569 F1 0.718 IoU 0.560 MCC 0.734 | peak 5.75 GB | 134.6s\n",
            "[ep 29] train 0.0535 | val 0.1132 | P 0.962 R 0.714 F1 0.819 IoU 0.694 MCC 0.820 | peak 5.72 GB | 133.2s\n",
            "[ep 30] train 0.0532 | val 0.3572 | P 0.981 R 0.473 F1 0.638 IoU 0.468 MCC 0.669 | peak 6.23 GB | 133.2s\n",
            "[ep 31] train 0.1175 | val 0.1345 | P 0.873 R 0.810 F1 0.840 IoU 0.724 MCC 0.831 | peak 5.95 GB | 132.9s\n",
            "[ep 32] train 0.0637 | val 0.1484 | P 0.944 R 0.549 F1 0.694 IoU 0.531 MCC 0.708 | peak 6.58 GB | 132.5s\n",
            "[ep 33] train 0.0555 | val 0.1338 | P 0.960 R 0.672 F1 0.790 IoU 0.653 MCC 0.794 | peak 6.23 GB | 133.1s\n",
            "[ep 34] train 0.0495 | val 0.1731 | P 0.978 R 0.381 F1 0.548 IoU 0.378 MCC 0.598 | peak 5.84 GB | 133.5s\n",
            "[ep 35] train 0.0550 | val 0.1133 | P 0.909 R 0.697 F1 0.789 IoU 0.651 MCC 0.785 | peak 6.19 GB | 132.6s\n",
            "[ep 36] train 0.0475 | val 0.1400 | P 0.958 R 0.728 F1 0.828 IoU 0.706 MCC 0.827 | peak 5.76 GB | 133.5s\n",
            "[ep 37] train 0.0570 | val 0.1086 | P 0.807 R 0.752 F1 0.779 IoU 0.638 MCC 0.766 | peak 5.86 GB | 133.9s\n",
            "[ep 38] train 0.0416 | val 0.1382 | P 0.876 R 0.717 F1 0.789 IoU 0.651 MCC 0.782 | peak 6.27 GB | 132.7s\n",
            "[ep 39] train 0.0486 | val 0.1456 | P 0.971 R 0.587 F1 0.732 IoU 0.577 MCC 0.745 | peak 6.55 GB | 132.4s\n",
            "[ep 40] train 0.0384 | val 0.1159 | P 0.921 R 0.733 F1 0.816 IoU 0.689 MCC 0.812 | peak 5.74 GB | 133.3s\n",
            "[ep 41] train 0.0377 | val 0.1133 | P 0.936 R 0.726 F1 0.818 IoU 0.692 MCC 0.815 | peak 5.99 GB | 132.6s\n",
            "[ep 42] train 0.0419 | val 0.1839 | P 0.996 R 0.478 F1 0.646 IoU 0.477 MCC 0.679 | peak 5.57 GB | 133.1s\n",
            "[ep 43] train 0.0435 | val 0.1509 | P 0.980 R 0.545 F1 0.700 IoU 0.539 MCC 0.720 | peak 6.02 GB | 133.8s\n",
            "[ep 44] train 0.0375 | val 0.1134 | P 0.930 R 0.722 F1 0.813 IoU 0.685 MCC 0.810 | peak 7.43 GB | 133.6s\n",
            "[ep 45] train 0.0369 | val 0.0734 | P 0.947 R 0.879 F1 0.912 IoU 0.838 MCC 0.907 | peak 5.68 GB | 133.9s\n",
            " ↑ Saved BEST (F1=0.912)\n",
            "[ep 46] train 0.0349 | val 0.1172 | P 0.936 R 0.874 F1 0.904 IoU 0.825 MCC 0.899 | peak 6.02 GB | 134.5s\n",
            "[ep 47] train 0.0317 | val 0.1201 | P 0.976 R 0.766 F1 0.858 IoU 0.752 MCC 0.858 | peak 5.75 GB | 133.8s\n",
            "[ep 48] train 0.0312 | val 0.1381 | P 0.984 R 0.647 F1 0.781 IoU 0.640 MCC 0.789 | peak 6.18 GB | 133.8s\n",
            "[ep 49] train 0.0305 | val 0.0956 | P 0.964 R 0.768 F1 0.855 IoU 0.747 MCC 0.854 | peak 5.85 GB | 134.2s\n",
            "[ep 50] train 0.0332 | val 0.1364 | P 0.970 R 0.824 F1 0.891 IoU 0.804 MCC 0.888 | peak 5.76 GB | 133.5s\n",
            "[ep 51] train 0.0323 | val 0.1180 | P 0.977 R 0.681 F1 0.802 IoU 0.670 MCC 0.807 | peak 5.82 GB | 135.6s\n",
            "[ep 52] train 0.0342 | val 0.1353 | P 0.974 R 0.729 F1 0.834 IoU 0.715 MCC 0.835 | peak 6.16 GB | 134.8s\n",
            "[ep 53] train 0.0285 | val 0.1395 | P 0.973 R 0.571 F1 0.720 IoU 0.562 MCC 0.735 | peak 7.02 GB | 135.3s\n",
            "[ep 54] train 0.0341 | val 0.1054 | P 0.973 R 0.735 F1 0.838 IoU 0.720 MCC 0.838 | peak 5.63 GB | 134.2s\n",
            "[ep 55] train 0.0389 | val 0.1443 | P 0.979 R 0.629 F1 0.766 IoU 0.621 MCC 0.775 | peak 5.92 GB | 134.2s\n",
            "[ep 56] train 0.0324 | val 0.1183 | P 0.977 R 0.700 F1 0.816 IoU 0.689 MCC 0.819 | peak 5.73 GB | 135.6s\n",
            "[ep 57] train 0.0270 | val 0.1315 | P 0.977 R 0.755 F1 0.852 IoU 0.742 MCC 0.852 | peak 5.71 GB | 135.0s\n",
            "[ep 58] train 0.0282 | val 0.1391 | P 0.976 R 0.583 F1 0.730 IoU 0.574 MCC 0.744 | peak 5.75 GB | 136.4s\n",
            "[ep 59] train 0.0294 | val 0.1173 | P 0.968 R 0.706 F1 0.817 IoU 0.690 MCC 0.818 | peak 6.02 GB | 137.2s\n",
            "[ep 60] train 0.0280 | val 0.1451 | P 0.974 R 0.638 F1 0.771 IoU 0.627 MCC 0.779 | peak 5.76 GB | 136.9s\n"
          ]
        }
      ]
    },
    {
      "cell_type": "code",
      "source": [
        "RUN_DIR = trainer.run_dir\n",
        "print(\"Run dir:\", RUN_DIR)"
      ],
      "metadata": {
        "colab": {
          "base_uri": "https://localhost:8080/"
        },
        "id": "K0geWnv2k32v",
        "outputId": "56d44ad5-9322-4ae8-da7f-a99161c502d0"
      },
      "execution_count": null,
      "outputs": [
        {
          "output_type": "stream",
          "name": "stdout",
          "text": [
            "Run dir: /content/drive/MyDrive/kpconv_abc/runs/exp_default\n"
          ]
        }
      ]
    },
    {
      "cell_type": "markdown",
      "source": [
        "testing"
      ],
      "metadata": {
        "id": "o-luYv5MDCHd"
      }
    },
    {
      "cell_type": "code",
      "source": [
        "from utils.tester import test_run\n",
        "\n",
        "stats = test_run(\n",
        "    run_dir=RUN_DIR,\n",
        "    ckpt_name=\"model_best.pt\",\n",
        "    split=\"Validation\",\n",
        "    threshold=getattr(cfg, \"default_threshold\", 0.25),\n",
        "    export_pred_ply=False,   # True if raw pred PLYs\n",
        "    export_diff_ply=True,\n",
        "    save_plots=True\n",
        ")\n",
        "print(\"Validation stats:\", stats)\n"
      ],
      "metadata": {
        "colab": {
          "base_uri": "https://localhost:8080/"
        },
        "id": "Soo-dIlA6alU",
        "outputId": "731c9cdb-a103-4757-cf39-7032f9856cc0"
      },
      "execution_count": null,
      "outputs": [
        {
          "output_type": "stream",
          "name": "stdout",
          "text": [
            "[tester] Validation: F1=0.919 P=0.876 R=0.967 IoU=0.850 MCC=0.915\n",
            "Validation stats: {'precision': 0.8756972831364558, 'recall': 0.9672229289829888, 'f1': 0.9191873691200243, 'iou': 0.8504595003618791, 'mcc': 0.915221490862917, 'accuracy': 0.9901218612858951, 'specificity': 0.9915338967147689, 'tp': 38775, 'tn': 644618, 'fp': 5504, 'fn': 1314, 'threshold': 0.25, 'split': 'Validation', 'elapsed_sec': 19.148773908615112}\n"
          ]
        }
      ]
    }
  ],
  "metadata": {
    "colab": {
      "provenance": [],
      "gpuType": "T4"
    },
    "kernelspec": {
      "display_name": "Python 3",
      "name": "python3"
    },
    "language_info": {
      "name": "python"
    },
    "accelerator": "GPU"
  },
  "nbformat": 4,
  "nbformat_minor": 0
}